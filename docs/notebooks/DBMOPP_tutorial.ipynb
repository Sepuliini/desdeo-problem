{
 "cells": [
  {
   "cell_type": "code",
   "execution_count": 1,
   "id": "6c462537",
   "metadata": {},
   "outputs": [],
   "source": [
    "import desdeo_emo\n",
    "import desdeo_problem"
   ]
  },
  {
   "cell_type": "code",
   "execution_count": 2,
   "id": "b7ad06f9",
   "metadata": {},
   "outputs": [],
   "source": [
    "import numpy as np"
   ]
  },
  {
   "cell_type": "code",
   "execution_count": 7,
   "id": "c94d2361",
   "metadata": {},
   "outputs": [],
   "source": [
    "from desdeo_problem.testproblems import TestProblems"
   ]
  },
  {
   "cell_type": "code",
   "execution_count": 9,
   "id": "7f6fd132",
   "metadata": {},
   "outputs": [],
   "source": [
    "from desdeo_problem.testproblems import DBMOPP, Region, utilities"
   ]
  },
  {
   "cell_type": "code",
   "execution_count": 10,
   "id": "f11742c1",
   "metadata": {},
   "outputs": [
    {
     "name": "stdout",
     "output_type": "stream",
     "text": [
      "Assigning any checker soft/hard constraint regions and neutral regions\n",
      "\n",
      "TODO check discontinuity, not done in matlab\n",
      "Assigning any vertex soft/hard constraint regions\n",
      "\n",
      "Assigning any centre soft/hard constraint regions.\n",
      "\n",
      "Assigning any moat soft/hard constraint regions\n",
      "\n",
      "fNo need to assign dimension projections as number of variables is already {n_variables}\n",
      "n_obj:  3\n",
      "n_var:  2\n",
      "n_nlp:  0\n",
      "n_ndr:  0\n",
      "n_ngp:  1\n",
      "potype:  0\n",
      "const type:  4\n",
      "None\n",
      "Initializing works!\n"
     ]
    }
   ],
   "source": [
    "import random\n",
    "\n",
    "n_objectives = 3\n",
    "n_variables = 2 \n",
    "n_local_pareto_regions = 0 \n",
    "n_disconnected_regions = 0 \n",
    "n_global_pareto_regions = 1 \n",
    "const_space = 0.0\n",
    "pareto_set_type = 0 \n",
    "constraint_type = 4 \n",
    "\n",
    "# DBMOP object misses attribute hard_constraint_radius aswell wehen setting const space\n",
    "\n",
    "# 0: No constraint, 1-4: Hard vertex, centre, moat, extended checker, \n",
    "# 5-8: soft vertex, centre, moat, extended checker.\n",
    "\n",
    "# 1,2 works 3, 4 not sure\n",
    "\n",
    "\n",
    "problem = DBMOPP(\n",
    "    n_objectives,\n",
    "    n_variables,\n",
    "    n_local_pareto_regions,\n",
    "    n_disconnected_regions,\n",
    "    n_global_pareto_regions,\n",
    "    const_space,\n",
    "    pareto_set_type,\n",
    "    constraint_type, 0, False, False, 0, 10000\n",
    ")\n",
    "print(problem._print_params())\n",
    "\n",
    "print(\"Initializing works!\")\n",
    "\n"
   ]
  },
  {
   "cell_type": "code",
   "execution_count": null,
   "id": "9393f3bf",
   "metadata": {},
   "outputs": [],
   "source": [
    "from desdeo_emo.EAs.IBEA import IBEA\n",
    "ib = IBEA(moproblem, population_size=32, n_iterations=10, n_gen_per_iter=100,total_function_evaluations=3000)\n",
    "while ib.continue_evolution():\n",
    "    ib.iterate()\n",
    "individuals, objective_values = ib.end()\n",
    "print(individuals)\n",
    "print(\"IBEA ideal\",ib.population.problem.ideal)\n",
    "#print(problem.evaluate(ib.population.problem.ideal))\n",
    "\n",
    "# TODO: plot ndim individuals to 2d plot so can see top eachother ..\n",
    "# plotting in objective space, they go on top of each other which is really nice!\n",
    "#plt.scatter(x=objective_values[:,0], y=objective_values[:,1], label=\"IBEA Front\")\n",
    "test_objectives = moproblem.evaluate(individuals)[0]\n",
    "print(\"\\nFormed MOProblem: \\n\\n\", test_objectives) \n",
    "plt.scatter(x=individuals[:,0], y=individuals[:,1], label=\"IBEA Front\")\n",
    "#plt.scatter(x=test_objectives[:,0], y=test_objectives[:,1], label=\"front from moproblem\")\n",
    "plt.title(f\"IBEA approximation\")\n",
    "plt.xlabel(\"F1\")\n",
    "plt.ylabel(\"F2\")\n",
    "plt.legend()\n",
    "plt.show()"
   ]
  }
 ],
 "metadata": {
  "kernelspec": {
   "display_name": "desdeoENV",
   "language": "python",
   "name": "desdeoenv"
  },
  "language_info": {
   "codemirror_mode": {
    "name": "ipython",
    "version": 3
   },
   "file_extension": ".py",
   "mimetype": "text/x-python",
   "name": "python",
   "nbconvert_exporter": "python",
   "pygments_lexer": "ipython3",
   "version": "3.9.9"
  }
 },
 "nbformat": 4,
 "nbformat_minor": 5
}
